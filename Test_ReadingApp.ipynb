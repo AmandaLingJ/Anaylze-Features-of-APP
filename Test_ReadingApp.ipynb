{
 "cells": [
  {
   "cell_type": "code",
   "execution_count": 1,
   "metadata": {},
   "outputs": [],
   "source": [
    "# -*- coding: utf-8 -*-\n",
    "import os\n",
    "import sys\n",
    "import zipfile\n",
    "import re"
   ]
  },
  {
   "cell_type": "code",
   "execution_count": 2,
   "metadata": {},
   "outputs": [
    {
     "name": "stdout",
     "output_type": "stream",
     "text": [
      "apk: 2099628.apk\n"
     ]
    }
   ],
   "source": [
    "for dir in os.walk(os.curdir):\n",
    "    for f in dir[2]:\n",
    "        if(os.path.splitext(f)[1] == '.apk'):\n",
    "            print('apk:',f)"
   ]
  },
  {
   "cell_type": "code",
   "execution_count": 3,
   "metadata": {},
   "outputs": [
    {
     "data": {
      "text/plain": [
       "<module 'ntpath' from 'e:\\\\anaconda\\\\envs\\\\gluon\\\\lib\\\\ntpath.py'>"
      ]
     },
     "execution_count": 3,
     "metadata": {},
     "output_type": "execute_result"
    }
   ],
   "source": [
    "os.path"
   ]
  },
  {
   "cell_type": "code",
   "execution_count": 10,
   "metadata": {},
   "outputs": [],
   "source": [
    "pp = os.popen(\"ls\")\n",
    "absPath = \"C:\\\\Users\\\\59575\\\\Desktop\\\\1.apk\""
   ]
  },
  {
   "cell_type": "code",
   "execution_count": 11,
   "metadata": {
    "scrolled": false
   },
   "outputs": [
    {
     "name": "stdout",
     "output_type": "stream",
     "text": [
      "package: com.zhihu.android\n",
      "uses-permission: name='android.permission.REQUEST_INSTALL_PACKAGES'\n",
      "uses-permission: name='android.permission.BLUETOOTH'\n",
      "uses-permission: name='android.permission.INTERNET'\n",
      "uses-permission: name='android.permission.READ_EXTERNAL_STORAGE'\n",
      "uses-permission: name='android.permission.WRITE_EXTERNAL_STORAGE'\n",
      "uses-permission: name='android.permission.RECEIVE_BOOT_COMPLETED'\n",
      "uses-permission: name='android.permission.RECORD_AUDIO'\n",
      "uses-permission: name='android.permission.MOUNT_UNMOUNT_FILESYSTEMS'\n",
      "uses-permission: name='android.permission.MODIFY_AUDIO_SETTINGS'\n",
      "uses-permission: name='android.permission.VIBRATE'\n",
      "uses-permission: name='android.Manifest.permission.DEVICE_POWER'\n",
      "uses-permission: name='android.permission.WAKE_LOCK'\n",
      "uses-permission: name='com.android.launcher.permission.INSTALL_SHORTCUT'\n",
      "uses-permission: name='android.permission.ACCESS_FINE_LOCATION'\n",
      "uses-permission: name='android.permission.ACCESS_COARSE_LOCATION'\n",
      "uses-permission: name='android.permission.READ_CONTACTS'\n",
      "uses-permission: name='android.permission.REORDER_TASKS'\n",
      "uses-permission: name='android.permission.ACCESS_NETWORK_STATE'\n",
      "uses-permission: name='android.permission.WRITE_SETTINGS'\n",
      "uses-permission: name='android.permission.READ_PHONE_STATE'\n",
      "uses-permission: name='android.permission.ACCESS_WIFI_STATE'\n",
      "uses-permission: name='android.permission.CHANGE_WIFI_STATE'\n",
      "uses-permission: name='android.permission.FOREGROUND_SERVICE'\n",
      "uses-permission: name='android.permission.CAMERA'\n",
      "uses-permission: name='android.permission.FLASHLIGHT'\n",
      "permission: com.zhihu.android.ReceivePlayerInfo\n",
      "uses-permission: name='com.zhihu.android.ReceivePlayerInfo'\n",
      "uses-permission: name='com.huawei.android.launcher.permission.CHANGE_BADGE'\n",
      "uses-permission: name='android.permission.CHANGE_NETWORK_STATE'\n",
      "uses-permission: name='android.permission.GET_TASKS'\n",
      "uses-permission: name='android.Manifest.permission.READ_PHONE_STATE'\n",
      "permission: com.zhihu.android.permission.MIPUSH_RECEIVE\n",
      "uses-permission: name='com.zhihu.android.permission.MIPUSH_RECEIVE'\n",
      "permission: com.zhihu.android.permission.JPUSH_MESSAGE\n",
      "uses-permission: name='com.zhihu.android.permission.JPUSH_MESSAGE'\n",
      "uses-permission: name='android.permission.READ_LOGS'\n",
      "uses-permission: name='android.permission.ACCESS_LOCATION_EXTRA_COMMANDS'\n",
      "uses-permission: name='android.permission.BLUETOOTH_ADMIN'\n",
      "uses-permission: name='getui.permission.GetuiService.com.zhihu.android'\n",
      "permission: getui.permission.GetuiService.com.zhihu.android\n",
      "\n"
     ]
    }
   ],
   "source": [
    "pp = os.popen(\"aapt d permissions \"+absPath)\n",
    "pp=pp.read()\n",
    "print(pp)\n"
   ]
  },
  {
   "cell_type": "code",
   "execution_count": null,
   "metadata": {},
   "outputs": [],
   "source": []
  }
 ],
 "metadata": {
  "kernelspec": {
   "display_name": "Python 3",
   "language": "python",
   "name": "python3"
  },
  "language_info": {
   "codemirror_mode": {
    "name": "ipython",
    "version": 3
   },
   "file_extension": ".py",
   "mimetype": "text/x-python",
   "name": "python",
   "nbconvert_exporter": "python",
   "pygments_lexer": "ipython3",
   "version": "3.6.9"
  }
 },
 "nbformat": 4,
 "nbformat_minor": 2
}
